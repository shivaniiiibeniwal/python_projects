{
 "cells": [
  {
   "cell_type": "code",
   "execution_count": 9,
   "id": "2bc4487f-35ea-4058-91f6-c0647cf649b7",
   "metadata": {},
   "outputs": [
    {
     "name": "stdout",
     "output_type": "stream",
     "text": [
      "*******************************************************\n",
      "Library Management System of New York Public Library\n",
      "*******************************************************\n"
     ]
    },
    {
     "name": "stdin",
     "output_type": "stream",
     "text": [
      "Enter Username: Shivani Beniwal\n",
      "Enter Password: 1234\n"
     ]
    },
    {
     "name": "stdout",
     "output_type": "stream",
     "text": [
      "You are logged in successfully!!\n",
      "Welcome to the window of Library Menu..Please select below options:)\n",
      "1-Available Books\n",
      "2-Borrowed Books\n",
      "3-Returned Books\n",
      "4-Details of Borrowed Books\n",
      "5-Take me back to the application\n"
     ]
    },
    {
     "name": "stdin",
     "output_type": "stream",
     "text": [
      "Enter your choice here from 1 to 5: 1\n"
     ]
    },
    {
     "name": "stdout",
     "output_type": "stream",
     "text": [
      "Available Books dict_items([('Fantasy', 5), ('Science Fiction', 10), ('Encyclopedia', 6), ('Spirituality', 20)])\n",
      "Welcome to the window of Library Menu..Please select below options:)\n",
      "1-Available Books\n",
      "2-Borrowed Books\n",
      "3-Returned Books\n",
      "4-Details of Borrowed Books\n",
      "5-Take me back to the application\n"
     ]
    },
    {
     "name": "stdin",
     "output_type": "stream",
     "text": [
      "Enter your choice here from 1 to 5: 2\n",
      "Enter your name here: Shinu\n",
      "Enter book name: Spirituality\n"
     ]
    },
    {
     "name": "stdout",
     "output_type": "stream",
     "text": [
      "Spiritualitywas successfully borrowed by Shinu\n",
      "Welcome to the window of Library Menu..Please select below options:)\n",
      "1-Available Books\n",
      "2-Borrowed Books\n",
      "3-Returned Books\n",
      "4-Details of Borrowed Books\n",
      "5-Take me back to the application\n"
     ]
    },
    {
     "name": "stdin",
     "output_type": "stream",
     "text": [
      "Enter your choice here from 1 to 5: 4\n"
     ]
    },
    {
     "name": "stdout",
     "output_type": "stream",
     "text": [
      "dict_items([('Shinu', 'Spirituality')])\n",
      "Welcome to the window of Library Menu..Please select below options:)\n",
      "1-Available Books\n",
      "2-Borrowed Books\n",
      "3-Returned Books\n",
      "4-Details of Borrowed Books\n",
      "5-Take me back to the application\n"
     ]
    },
    {
     "name": "stdin",
     "output_type": "stream",
     "text": [
      "Enter your choice here from 1 to 5: 5\n"
     ]
    },
    {
     "name": "stdout",
     "output_type": "stream",
     "text": [
      "Take me back to the application\n"
     ]
    }
   ],
   "source": [
    "print(\"*\"*55)\n",
    "print(\"Library Management System of New York Public Library\")\n",
    "print(\"*\"*55)\n",
    "username=\"Shivani Beniwal\"\n",
    "password=1234\n",
    "available_books={\"Fantasy\":5,\"Science Fiction\":10,\"Encyclopedia\":6,\"Spirituality\":20}\n",
    "borrowed_books={}\n",
    "\n",
    "while True:\n",
    "    input_username=input(\"Enter Username:\")\n",
    "    input_password=int(input(\"Enter Password:\"))\n",
    "    if input_username==username and input_password==password:\n",
    "        print(\"You are logged in successfully!!\")\n",
    "        break\n",
    "    else:\n",
    "        print(\"Enter correct username and password!!!!\")\n",
    "\n",
    "while True:\n",
    "    print(\"Welcome to the window of Library Menu..Please select below options:)\")\n",
    "    print(\"1-Available Books\")\n",
    "    print(\"2-Borrowed Books\")\n",
    "    print(\"3-Returned Books\")\n",
    "    print(\"4-Details of Borrowed Books\")\n",
    "    print(\"5-Take me back to the application\")\n",
    "\n",
    "    choice=(input(\"Enter your choice here from 1 to 5:\"))\n",
    "    if choice==\"1\":\n",
    "        print(\"Available Books\",available_books.items())\n",
    "\n",
    "    elif choice==\"2\":\n",
    "        borrower_name=input(\"Enter your name here:\")\n",
    "        book_name=input(\"Enter book name:\")\n",
    "        if book_name in available_books:\n",
    "            available_books[book_name]-=1\n",
    "            borrowed_books[borrower_name]=book_name\n",
    "            print(f\"{book_name}was successfully borrowed by {borrower_name}\")\n",
    "\n",
    "    elif choice==\"3\":\n",
    "        borrower_name=input(\"Enter your name here:\")\n",
    "        if borrower_name in borrowed_books:\n",
    "            return_books=borrowed_books.pop(book_name)\n",
    "            available_books[book_name]+=1\n",
    "            print(f\"{return_books}returned by {book_name}\")\n",
    "\n",
    "        else:\n",
    "            print(\"You have not borrowed any book yet..\")\n",
    "\n",
    "    elif choice==\"4\":\n",
    "        print(borrowed_books.items())\n",
    "\n",
    "    elif choice==\"5\":\n",
    "        print(\"Take me back to the application\")\n",
    "        break\n",
    "\n",
    "    else:\n",
    "        print(\"Incorrect Choice\")\n",
    "\n",
    "\n",
    "\n",
    "        \n",
    "    \n",
    "\n"
   ]
  },
  {
   "cell_type": "markdown",
   "id": "daf66ab0-0ddb-4cef-9c27-0ac8f922acbb",
   "metadata": {},
   "source": []
  }
 ],
 "metadata": {
  "kernelspec": {
   "display_name": "Python 3 (ipykernel)",
   "language": "python",
   "name": "python3"
  },
  "language_info": {
   "codemirror_mode": {
    "name": "ipython",
    "version": 3
   },
   "file_extension": ".py",
   "mimetype": "text/x-python",
   "name": "python",
   "nbconvert_exporter": "python",
   "pygments_lexer": "ipython3",
   "version": "3.11.5"
  }
 },
 "nbformat": 4,
 "nbformat_minor": 5
}
