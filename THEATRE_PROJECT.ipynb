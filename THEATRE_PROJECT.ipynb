{
 "cells": [
  {
   "cell_type": "code",
   "execution_count": null,
   "id": "49b4fedb-7cd6-4f43-9f9a-521687edc1fb",
   "metadata": {},
   "outputs": [],
   "source": []
  },
  {
   "cell_type": "code",
   "execution_count": 29,
   "id": "f23b2d93-6991-4df6-b5d8-1ea8a7b7f17c",
   "metadata": {},
   "outputs": [
    {
     "name": "stdout",
     "output_type": "stream",
     "text": [
      "************************************************************\n",
      "~~~~~~~~~~WELCOME TO PVR SELECT CITY WALK SAKET~~~~~~~~~~\n",
      "------------------------------------------------------------\n"
     ]
    },
    {
     "name": "stdin",
     "output_type": "stream",
     "text": [
      "Please enter your name: Shivani\n",
      "Number of tickets: 4\n"
     ]
    },
    {
     "name": "stdout",
     "output_type": "stream",
     "text": [
      "which movie do you want to watch?:\n",
      "press 1 for 2 States\n",
      "    press 2 for Ramleela\n",
      "    press 3 for Veere Di Wedding\n",
      "    press 4 for Ki & Ka\n"
     ]
    },
    {
     "name": "stdin",
     "output_type": "stream",
     "text": [
      "press 1-4: 2\n"
     ]
    },
    {
     "name": "stdout",
     "output_type": "stream",
     "text": [
      "Ramleela\n",
      "which seat you would like to have? Press 1 for Silver-200 rupees Press 2 for Gold-500 rupees Press 3 for Recliner-1000 rupees\n"
     ]
    },
    {
     "name": "stdin",
     "output_type": "stream",
     "text": [
      "select seat 3\n"
     ]
    },
    {
     "name": "stdout",
     "output_type": "stream",
     "text": [
      "Recliner\n",
      "4000\n",
      "4\n"
     ]
    },
    {
     "name": "stdin",
     "output_type": "stream",
     "text": [
      "Next Customer??: yes\n",
      "Please enter your name: Asha\n",
      "Number of tickets: 2\n"
     ]
    },
    {
     "name": "stdout",
     "output_type": "stream",
     "text": [
      "which movie do you want to watch?:\n",
      "press 1 for 2 States\n",
      "    press 2 for Ramleela\n",
      "    press 3 for Veere Di Wedding\n",
      "    press 4 for Ki & Ka\n"
     ]
    },
    {
     "name": "stdin",
     "output_type": "stream",
     "text": [
      "press 1-4: 4\n"
     ]
    },
    {
     "name": "stdout",
     "output_type": "stream",
     "text": [
      "Ki&Ka\n",
      "which seat you would like to have? Press 1 for Silver-200 rupees Press 2 for Gold-500 rupees Press 3 for Recliner-1000 rupees\n"
     ]
    },
    {
     "name": "stdin",
     "output_type": "stream",
     "text": [
      "select seat 2\n"
     ]
    },
    {
     "name": "stdout",
     "output_type": "stream",
     "text": [
      "Gold\n",
      "1000\n",
      "2\n"
     ]
    },
    {
     "name": "stdin",
     "output_type": "stream",
     "text": [
      "Next Customer??: no\n"
     ]
    },
    {
     "name": "stdout",
     "output_type": "stream",
     "text": [
      "************************************************************\n"
     ]
    }
   ],
   "source": [
    "print(\"*\"*60)\n",
    "print(\"~~~~~~~~~~WELCOME TO PVR SELECT CITY WALK SAKET~~~~~~~~~~\")\n",
    "print(\"-\"*60)\n",
    "while True:\n",
    "    name=input(\"Please enter your name:\")\n",
    "    ticket=int(input(\"Number of tickets:\"))\n",
    "    print(\"which movie do you want to watch?:\")\n",
    "    print(\"\"\"press 1 for 2 States\n",
    "    press 2 for Ramleela\n",
    "    press 3 for Veere Di Wedding\n",
    "    press 4 for Ki & Ka\"\"\")\n",
    "    choice=int(input(\"press 1-4:\"))\n",
    "    if choice==1:\n",
    "        print(\"2 States\")\n",
    "    elif choice==2:\n",
    "        print(\"Ramleela\")\n",
    "    elif choice==3:\n",
    "        print(\"Veere Di Wedding\")\n",
    "    elif choice==4:\n",
    "        print(\"Ki&Ka\")\n",
    "    else:\n",
    "        print(\"not available\")\n",
    "    \n",
    "    print(\"\"\"which seat you would like to have? Press 1 for Silver-200 rupees Press 2 for Gold-500 rupees Press 3 for Recliner-1000 rupees\"\"\")\n",
    "    seat=int(input(\"select seat\"))\n",
    "    if seat==1:\n",
    "        print(\"Silver\")\n",
    "        print(200*ticket)\n",
    "        Silver=50\n",
    "        while ticket<51:\n",
    "            print(ticket)\n",
    "            ticket-=ticket\n",
    "            break\n",
    "            (\"FULL\")\n",
    "    elif seat==2:\n",
    "        print(\"Gold\")\n",
    "        print(500*ticket)\n",
    "        Gold=100\n",
    "        while ticket<101:\n",
    "            print(ticket)\n",
    "            ticket-=ticket\n",
    "            break\n",
    "            (\"FULL\")\n",
    "    elif seat==3:\n",
    "        print(\"Recliner\")\n",
    "        print(1000*ticket)\n",
    "        Recliner=120\n",
    "        while ticket<121:\n",
    "            print(ticket)\n",
    "            ticket-=ticket\n",
    "            break\n",
    "            (\"FULL\")\n",
    "    Next=input(\"Next Customer??:\")\n",
    "    if Next==\"no\":\n",
    "        break\n",
    "print(\"*\"*60)\n",
    "       \n",
    "\n",
    "\n",
    "\n"
   ]
  },
  {
   "cell_type": "markdown",
   "id": "18044397-db62-4732-abaf-7bef5d03f482",
   "metadata": {},
   "source": []
  },
  {
   "cell_type": "code",
   "execution_count": null,
   "id": "537cf55b-3fb4-4979-9ca1-b2d4e98857b5",
   "metadata": {},
   "outputs": [],
   "source": []
  },
  {
   "cell_type": "code",
   "execution_count": null,
   "id": "27e83091-3ae5-43f2-abdc-d3e240d9b5f5",
   "metadata": {},
   "outputs": [],
   "source": []
  }
 ],
 "metadata": {
  "kernelspec": {
   "display_name": "Python 3 (ipykernel)",
   "language": "python",
   "name": "python3"
  },
  "language_info": {
   "codemirror_mode": {
    "name": "ipython",
    "version": 3
   },
   "file_extension": ".py",
   "mimetype": "text/x-python",
   "name": "python",
   "nbconvert_exporter": "python",
   "pygments_lexer": "ipython3",
   "version": "3.11.5"
  }
 },
 "nbformat": 4,
 "nbformat_minor": 5
}
